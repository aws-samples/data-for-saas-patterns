{
 "cells": [
  {
   "cell_type": "markdown",
   "metadata": {},
   "source": [
    "# RDS Data API - Row-level security using explicit transactions\n",
    "\n",
    "To run this workbook, you must have an Amazon Aurora PostgreSQL cluster with the RDS Data API enabled. Update the cell below with the Cluster ARN, the Secrets Manager secret ARNs for the database credentials to use and the AWS Region to create the boto3 client in.\n",
    "\n",
    "Note that the app user should not be the RDS master user as the row-level security policy will not apply to a super user. Instead create a dedicated application user to use with limited permissions."
   ]
  },
  {
   "cell_type": "code",
   "execution_count": null,
   "metadata": {},
   "outputs": [],
   "source": [
    "%pip install boto3"
   ]
  },
  {
   "cell_type": "code",
   "execution_count": null,
   "metadata": {},
   "outputs": [],
   "source": [
    "import boto3\n",
    "\n",
    "cluster_arn = '<cluster arn>'\n",
    "admin_secret_arn = '<master user secret arn>'\n",
    "app_user_secret_arn = '<app user secret arn>'\n",
    "rdsData = boto3.client('rds-data', region_name='eu-central-1')\n",
    "db_name = 'postgres'"
   ]
  },
  {
   "cell_type": "markdown",
   "metadata": {},
   "source": [
    "The below cell creates a simple multi-tenant database schema, isolated using a row-level security policy:"
   ]
  },
  {
   "cell_type": "code",
   "execution_count": null,
   "metadata": {},
   "outputs": [],
   "source": [
    "response = rdsData.execute_statement(resourceArn=cluster_arn,\n",
    "                                      secretArn=admin_secret_arn,\n",
    "                                      database=db_name,\n",
    "                                      sql='CREATE TABLE tenant ( tenant_id integer PRIMARY KEY, tenant_name text, account_balance numeric );')\n",
    "response = rdsData.execute_statement(resourceArn=cluster_arn,\n",
    "                                      secretArn=admin_secret_arn,\n",
    "                                      database=db_name,\n",
    "                                      sql='''INSERT INTO tenant VALUES (1, 'Tenant1', 50000), (2, 'Tenant2', 60000), (3, 'Tenant3', 40000);''')\n",
    "response = rdsData.execute_statement(resourceArn=cluster_arn,\n",
    "                                      secretArn=admin_secret_arn,\n",
    "                                      database=db_name,\n",
    "                                      sql='''CREATE POLICY tenant_policy ON tenant USING (tenant_id = current_setting('tenant.id')::integer);''')\n",
    "response = rdsData.execute_statement(resourceArn=cluster_arn,\n",
    "                                      secretArn=admin_secret_arn,\n",
    "                                      database=db_name,\n",
    "                                      sql='ALTER TABLE tenant enable row level security;')"
   ]
  },
  {
   "cell_type": "markdown",
   "metadata": {},
   "source": [
    "Finally, the below code can be used to create an explicit transaction in the application data access layer. This allows for set options to persist until the transaction is committed by reusing the same connection. The tenantId is pulled from the JWT as part of the tenant context. In this case it is hardcoded to \"2\", in a real-world application this would have logic to parse the tenantId from a claim in the token. "
   ]
  },
  {
   "cell_type": "code",
   "execution_count": null,
   "metadata": {},
   "outputs": [],
   "source": [
    "def get_tenant_id_from_context():\n",
    "    return 2;\n",
    "\n",
    "tr = rdsData.begin_transaction(\n",
    "     resourceArn = cluster_arn,\n",
    "     secretArn = app_user_secret_arn,\n",
    "     database = db_name)\n",
    "\n",
    "rdsData.execute_statement(resourceArn=cluster_arn,\n",
    "                          secretArn=app_user_secret_arn,\n",
    "                          database=db_name,\n",
    "                          sql='set tenant.id = {0}'.format(get_tenant_id_from_context()),\n",
    "                          transactionId = tr['transactionId'])\n",
    "\n",
    "response = rdsData.execute_statement(resourceArn=cluster_arn,\n",
    "                                      secretArn=app_user_secret_arn,\n",
    "                                      database=db_name,\n",
    "                                      sql='select tenant_name from tenant',\n",
    "                                      transactionId = tr['transactionId'])\n",
    "\n",
    "print(response['records'])\n",
    "\n",
    "cr = rdsData.commit_transaction(\n",
    "     resourceArn = cluster_arn,\n",
    "     secretArn = app_user_secret_arn,\n",
    "     transactionId = tr['transactionId'])"
   ]
  }
 ],
 "metadata": {
  "kernelspec": {
   "display_name": "Python 3",
   "language": "python",
   "name": "python3"
  },
  "language_info": {
   "codemirror_mode": {
    "name": "ipython",
    "version": 3
   },
   "file_extension": ".py",
   "mimetype": "text/x-python",
   "name": "python",
   "nbconvert_exporter": "python",
   "pygments_lexer": "ipython3",
   "version": "3.9.6"
  }
 },
 "nbformat": 4,
 "nbformat_minor": 2
}
